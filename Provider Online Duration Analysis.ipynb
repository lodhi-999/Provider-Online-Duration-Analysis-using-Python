{
 "cells": [
  {
   "cell_type": "code",
   "execution_count": 2,
   "id": "a88eea3d",
   "metadata": {},
   "outputs": [],
   "source": [
    "\n",
    "## Importing important Libraries\n",
    "import pandas as pd\n",
    "import numpy as np\n",
    "import matplotlib.pyplot as plt\n",
    "import seaborn as sns"
   ]
  },
  {
   "cell_type": "code",
   "execution_count": 3,
   "id": "cf14dd85",
   "metadata": {},
   "outputs": [],
   "source": [
    "import ast\n",
    "from datetime import datetime, timedelta"
   ]
  },
  {
   "cell_type": "code",
   "execution_count": 4,
   "id": "1528b1c8",
   "metadata": {},
   "outputs": [],
   "source": [
    "\n",
    "file_path = \"assignment_data.csv\"\n",
    "\n",
    "# Loading the Excel file\n",
    "xls = pd.read_csv(file_path)"
   ]
  },
  {
   "cell_type": "code",
   "execution_count": 5,
   "id": "a0ae0d40",
   "metadata": {},
   "outputs": [
    {
     "data": {
      "text/html": [
       "<div>\n",
       "<style scoped>\n",
       "    .dataframe tbody tr th:only-of-type {\n",
       "        vertical-align: middle;\n",
       "    }\n",
       "\n",
       "    .dataframe tbody tr th {\n",
       "        vertical-align: top;\n",
       "    }\n",
       "\n",
       "    .dataframe thead th {\n",
       "        text-align: right;\n",
       "    }\n",
       "</style>\n",
       "<table border=\"1\" class=\"dataframe\">\n",
       "  <thead>\n",
       "    <tr style=\"text-align: right;\">\n",
       "      <th></th>\n",
       "      <th>provider_id</th>\n",
       "      <th>detail</th>\n",
       "      <th>source</th>\n",
       "      <th>event_time</th>\n",
       "    </tr>\n",
       "  </thead>\n",
       "  <tbody>\n",
       "    <tr>\n",
       "      <th>0</th>\n",
       "      <td>6873f0af240706d65514ec247c64f330</td>\n",
       "      <td>{u'mme': False}</td>\n",
       "      <td>job_responded</td>\n",
       "      <td>2017-09-01 00:00:00.000000</td>\n",
       "    </tr>\n",
       "    <tr>\n",
       "      <th>1</th>\n",
       "      <td>a5a021d997269c4f1846903ff0f5d737</td>\n",
       "      <td>{u'lat': 18.9810108, u'long': 72.8187476}</td>\n",
       "      <td>location_tracking</td>\n",
       "      <td>2017-09-01 00:00:02.000000</td>\n",
       "    </tr>\n",
       "    <tr>\n",
       "      <th>2</th>\n",
       "      <td>77af6d6d6db530c389ec1014d557a01e</td>\n",
       "      <td>{u'mme': False}</td>\n",
       "      <td>decline_request</td>\n",
       "      <td>2017-09-01 00:00:05.000000</td>\n",
       "    </tr>\n",
       "    <tr>\n",
       "      <th>3</th>\n",
       "      <td>7ea218c2b9a6dada27e0d5bdf5f896de</td>\n",
       "      <td>{u'mme': False}</td>\n",
       "      <td>decline_request</td>\n",
       "      <td>2017-09-01 00:00:12.000000</td>\n",
       "    </tr>\n",
       "    <tr>\n",
       "      <th>4</th>\n",
       "      <td>0d7a9d9c00231885b413175980a9beca</td>\n",
       "      <td>{u'lat': 12.9959477, u'long': 77.6527175}</td>\n",
       "      <td>location_tracking</td>\n",
       "      <td>2017-09-01 00:00:15.000000</td>\n",
       "    </tr>\n",
       "    <tr>\n",
       "      <th>5</th>\n",
       "      <td>b72c9eeb4c52a2bdb7c4a8fe09871ec8</td>\n",
       "      <td>{u'lat': 19.0258816, u'long': 72.8727786}</td>\n",
       "      <td>location_tracking</td>\n",
       "      <td>2017-09-01 00:00:20.000000</td>\n",
       "    </tr>\n",
       "    <tr>\n",
       "      <th>6</th>\n",
       "      <td>fd385a93b517e41f5ae906be5213f0b0</td>\n",
       "      <td>{u'lat': 18.5398284, u'long': 73.7821132}</td>\n",
       "      <td>location_tracking</td>\n",
       "      <td>2017-09-01 00:00:23.000000</td>\n",
       "    </tr>\n",
       "    <tr>\n",
       "      <th>7</th>\n",
       "      <td>f1be9a4ebf57391f046464144a20fd36</td>\n",
       "      <td>{u'mme': False}</td>\n",
       "      <td>job_responded</td>\n",
       "      <td>2017-09-01 00:00:27.000000</td>\n",
       "    </tr>\n",
       "  </tbody>\n",
       "</table>\n",
       "</div>"
      ],
      "text/plain": [
       "                        provider_id  \\\n",
       "0  6873f0af240706d65514ec247c64f330   \n",
       "1  a5a021d997269c4f1846903ff0f5d737   \n",
       "2  77af6d6d6db530c389ec1014d557a01e   \n",
       "3  7ea218c2b9a6dada27e0d5bdf5f896de   \n",
       "4  0d7a9d9c00231885b413175980a9beca   \n",
       "5  b72c9eeb4c52a2bdb7c4a8fe09871ec8   \n",
       "6  fd385a93b517e41f5ae906be5213f0b0   \n",
       "7  f1be9a4ebf57391f046464144a20fd36   \n",
       "\n",
       "                                      detail             source  \\\n",
       "0                            {u'mme': False}      job_responded   \n",
       "1  {u'lat': 18.9810108, u'long': 72.8187476}  location_tracking   \n",
       "2                            {u'mme': False}    decline_request   \n",
       "3                            {u'mme': False}    decline_request   \n",
       "4  {u'lat': 12.9959477, u'long': 77.6527175}  location_tracking   \n",
       "5  {u'lat': 19.0258816, u'long': 72.8727786}  location_tracking   \n",
       "6  {u'lat': 18.5398284, u'long': 73.7821132}  location_tracking   \n",
       "7                            {u'mme': False}      job_responded   \n",
       "\n",
       "                   event_time  \n",
       "0  2017-09-01 00:00:00.000000  \n",
       "1  2017-09-01 00:00:02.000000  \n",
       "2  2017-09-01 00:00:05.000000  \n",
       "3  2017-09-01 00:00:12.000000  \n",
       "4  2017-09-01 00:00:15.000000  \n",
       "5  2017-09-01 00:00:20.000000  \n",
       "6  2017-09-01 00:00:23.000000  \n",
       "7  2017-09-01 00:00:27.000000  "
      ]
     },
     "execution_count": 5,
     "metadata": {},
     "output_type": "execute_result"
    }
   ],
   "source": [
    "xls.head(8)"
   ]
  },
  {
   "cell_type": "code",
   "execution_count": 6,
   "id": "d423e86a",
   "metadata": {},
   "outputs": [
    {
     "name": "stdout",
     "output_type": "stream",
     "text": [
      "<class 'pandas.core.frame.DataFrame'>\n",
      "RangeIndex: 1945726 entries, 0 to 1945725\n",
      "Data columns (total 4 columns):\n",
      " #   Column       Dtype \n",
      "---  ------       ----- \n",
      " 0   provider_id  object\n",
      " 1   detail       object\n",
      " 2   source       object\n",
      " 3   event_time   object\n",
      "dtypes: object(4)\n",
      "memory usage: 59.4+ MB\n"
     ]
    }
   ],
   "source": [
    "xls.info()"
   ]
  },
  {
   "cell_type": "code",
   "execution_count": 7,
   "id": "1153b446",
   "metadata": {},
   "outputs": [
    {
     "data": {
      "text/plain": [
       "(1945726, 4)"
      ]
     },
     "execution_count": 7,
     "metadata": {},
     "output_type": "execute_result"
    }
   ],
   "source": [
    "xls.shape"
   ]
  },
  {
   "cell_type": "code",
   "execution_count": 8,
   "id": "884d33e0",
   "metadata": {},
   "outputs": [
    {
     "data": {
      "text/plain": [
       "provider_id    0.000000\n",
       "detail         0.038612\n",
       "source         0.000000\n",
       "event_time     0.000000\n",
       "dtype: float64"
      ]
     },
     "execution_count": 8,
     "metadata": {},
     "output_type": "execute_result"
    }
   ],
   "source": [
    "xls.isnull().mean()"
   ]
  },
  {
   "cell_type": "code",
   "execution_count": 9,
   "id": "5d00d496",
   "metadata": {},
   "outputs": [],
   "source": [
    "\n",
    "# Converting event_time to datetime\n",
    "xls['event_time'] = pd.to_datetime(xls['event_time'])"
   ]
  },
  {
   "cell_type": "code",
   "execution_count": 10,
   "id": "9fb62003",
   "metadata": {},
   "outputs": [
    {
     "name": "stdout",
     "output_type": "stream",
     "text": [
      "<class 'pandas.core.frame.DataFrame'>\n",
      "RangeIndex: 1945726 entries, 0 to 1945725\n",
      "Data columns (total 4 columns):\n",
      " #   Column       Dtype         \n",
      "---  ------       -----         \n",
      " 0   provider_id  object        \n",
      " 1   detail       object        \n",
      " 2   source       object        \n",
      " 3   event_time   datetime64[ns]\n",
      "dtypes: datetime64[ns](1), object(3)\n",
      "memory usage: 59.4+ MB\n"
     ]
    }
   ],
   "source": [
    "xls.info()"
   ]
  },
  {
   "cell_type": "code",
   "execution_count": 11,
   "id": "88fdf3bb",
   "metadata": {},
   "outputs": [],
   "source": [
    "# Filtering out rows after 7 PM\n",
    "xls = xls[xls['event_time'].dt.hour < 19]"
   ]
  },
  {
   "cell_type": "code",
   "execution_count": 12,
   "id": "2de05680",
   "metadata": {},
   "outputs": [
    {
     "data": {
      "text/plain": [
       "(1613934, 4)"
      ]
     },
     "execution_count": 12,
     "metadata": {},
     "output_type": "execute_result"
    }
   ],
   "source": [
    "xls.shape"
   ]
  },
  {
   "cell_type": "markdown",
   "id": "d7df445a",
   "metadata": {},
   "source": [
    "## Parsed the 'detail' column so we can:\n",
    "\n",
    "### Extract values like 'mme'\n",
    "\n",
    "### Identifing event types correctly\n",
    "\n",
    "### Filter and classify status without string hacks"
   ]
  },
  {
   "cell_type": "code",
   "execution_count": 13,
   "id": "4b9180b7",
   "metadata": {},
   "outputs": [],
   "source": [
    "\n",
    "def parse_detail(val):\n",
    "    try:\n",
    "        return ast.literal_eval(val)\n",
    "    except:\n",
    "        return {}\n",
    "\n",
    "xls['detail_parsed'] = xls['detail'].apply(parse_detail)"
   ]
  },
  {
   "cell_type": "code",
   "execution_count": 14,
   "id": "580692b4",
   "metadata": {},
   "outputs": [
    {
     "data": {
      "text/html": [
       "<div>\n",
       "<style scoped>\n",
       "    .dataframe tbody tr th:only-of-type {\n",
       "        vertical-align: middle;\n",
       "    }\n",
       "\n",
       "    .dataframe tbody tr th {\n",
       "        vertical-align: top;\n",
       "    }\n",
       "\n",
       "    .dataframe thead th {\n",
       "        text-align: right;\n",
       "    }\n",
       "</style>\n",
       "<table border=\"1\" class=\"dataframe\">\n",
       "  <thead>\n",
       "    <tr style=\"text-align: right;\">\n",
       "      <th></th>\n",
       "      <th>provider_id</th>\n",
       "      <th>detail</th>\n",
       "      <th>source</th>\n",
       "      <th>event_time</th>\n",
       "      <th>detail_parsed</th>\n",
       "    </tr>\n",
       "  </thead>\n",
       "  <tbody>\n",
       "    <tr>\n",
       "      <th>0</th>\n",
       "      <td>6873f0af240706d65514ec247c64f330</td>\n",
       "      <td>{u'mme': False}</td>\n",
       "      <td>job_responded</td>\n",
       "      <td>2017-09-01 00:00:00</td>\n",
       "      <td>{'mme': False}</td>\n",
       "    </tr>\n",
       "    <tr>\n",
       "      <th>1</th>\n",
       "      <td>a5a021d997269c4f1846903ff0f5d737</td>\n",
       "      <td>{u'lat': 18.9810108, u'long': 72.8187476}</td>\n",
       "      <td>location_tracking</td>\n",
       "      <td>2017-09-01 00:00:02</td>\n",
       "      <td>{'lat': 18.9810108, 'long': 72.8187476}</td>\n",
       "    </tr>\n",
       "    <tr>\n",
       "      <th>2</th>\n",
       "      <td>77af6d6d6db530c389ec1014d557a01e</td>\n",
       "      <td>{u'mme': False}</td>\n",
       "      <td>decline_request</td>\n",
       "      <td>2017-09-01 00:00:05</td>\n",
       "      <td>{'mme': False}</td>\n",
       "    </tr>\n",
       "    <tr>\n",
       "      <th>3</th>\n",
       "      <td>7ea218c2b9a6dada27e0d5bdf5f896de</td>\n",
       "      <td>{u'mme': False}</td>\n",
       "      <td>decline_request</td>\n",
       "      <td>2017-09-01 00:00:12</td>\n",
       "      <td>{'mme': False}</td>\n",
       "    </tr>\n",
       "    <tr>\n",
       "      <th>4</th>\n",
       "      <td>0d7a9d9c00231885b413175980a9beca</td>\n",
       "      <td>{u'lat': 12.9959477, u'long': 77.6527175}</td>\n",
       "      <td>location_tracking</td>\n",
       "      <td>2017-09-01 00:00:15</td>\n",
       "      <td>{'lat': 12.9959477, 'long': 77.6527175}</td>\n",
       "    </tr>\n",
       "  </tbody>\n",
       "</table>\n",
       "</div>"
      ],
      "text/plain": [
       "                        provider_id  \\\n",
       "0  6873f0af240706d65514ec247c64f330   \n",
       "1  a5a021d997269c4f1846903ff0f5d737   \n",
       "2  77af6d6d6db530c389ec1014d557a01e   \n",
       "3  7ea218c2b9a6dada27e0d5bdf5f896de   \n",
       "4  0d7a9d9c00231885b413175980a9beca   \n",
       "\n",
       "                                      detail             source  \\\n",
       "0                            {u'mme': False}      job_responded   \n",
       "1  {u'lat': 18.9810108, u'long': 72.8187476}  location_tracking   \n",
       "2                            {u'mme': False}    decline_request   \n",
       "3                            {u'mme': False}    decline_request   \n",
       "4  {u'lat': 12.9959477, u'long': 77.6527175}  location_tracking   \n",
       "\n",
       "           event_time                            detail_parsed  \n",
       "0 2017-09-01 00:00:00                           {'mme': False}  \n",
       "1 2017-09-01 00:00:02  {'lat': 18.9810108, 'long': 72.8187476}  \n",
       "2 2017-09-01 00:00:05                           {'mme': False}  \n",
       "3 2017-09-01 00:00:12                           {'mme': False}  \n",
       "4 2017-09-01 00:00:15  {'lat': 12.9959477, 'long': 77.6527175}  "
      ]
     },
     "execution_count": 14,
     "metadata": {},
     "output_type": "execute_result"
    }
   ],
   "source": [
    "xls.head()"
   ]
  },
  {
   "cell_type": "code",
   "execution_count": 15,
   "id": "dd0c9aeb",
   "metadata": {},
   "outputs": [],
   "source": [
    "xls = xls[\n",
    "    xls['detail'].str.contains('True|False', na=False) |\n",
    "    xls['source'].str.contains('Action on Job', na=False)\n",
    "]"
   ]
  },
  {
   "cell_type": "code",
   "execution_count": 16,
   "id": "67526344",
   "metadata": {},
   "outputs": [
    {
     "data": {
      "text/plain": [
       "(695667, 5)"
      ]
     },
     "execution_count": 16,
     "metadata": {},
     "output_type": "execute_result"
    }
   ],
   "source": [
    "xls.shape"
   ]
  },
  {
   "cell_type": "markdown",
   "id": "6a140188",
   "metadata": {},
   "source": [
    "# Determining online/offline status"
   ]
  },
  {
   "cell_type": "code",
   "execution_count": 17,
   "id": "10aad3eb",
   "metadata": {},
   "outputs": [],
   "source": [
    "# Determine online/offline status\n",
    "def get_status(row):\n",
    "    if 'mme' in row['detail_parsed']:\n",
    "        return 'online' if row['detail_parsed']['mme'] else 'offline'\n",
    "    elif 'Action on Job' in str(row['source']):\n",
    "        return 'online'\n",
    "    elif 'False' in str(row['detail']):\n",
    "        return 'offline'\n",
    "    elif 'True' in str(row['detail']):\n",
    "        return 'online'\n",
    "    else:\n",
    "        return 'ignore'\n",
    "\n",
    "xls['status'] = xls.apply(get_status, axis=1)"
   ]
  },
  {
   "cell_type": "code",
   "execution_count": 18,
   "id": "cf6aac0e",
   "metadata": {},
   "outputs": [
    {
     "data": {
      "text/html": [
       "<div>\n",
       "<style scoped>\n",
       "    .dataframe tbody tr th:only-of-type {\n",
       "        vertical-align: middle;\n",
       "    }\n",
       "\n",
       "    .dataframe tbody tr th {\n",
       "        vertical-align: top;\n",
       "    }\n",
       "\n",
       "    .dataframe thead th {\n",
       "        text-align: right;\n",
       "    }\n",
       "</style>\n",
       "<table border=\"1\" class=\"dataframe\">\n",
       "  <thead>\n",
       "    <tr style=\"text-align: right;\">\n",
       "      <th></th>\n",
       "      <th>provider_id</th>\n",
       "      <th>detail</th>\n",
       "      <th>source</th>\n",
       "      <th>event_time</th>\n",
       "      <th>detail_parsed</th>\n",
       "      <th>status</th>\n",
       "    </tr>\n",
       "  </thead>\n",
       "  <tbody>\n",
       "    <tr>\n",
       "      <th>0</th>\n",
       "      <td>6873f0af240706d65514ec247c64f330</td>\n",
       "      <td>{u'mme': False}</td>\n",
       "      <td>job_responded</td>\n",
       "      <td>2017-09-01 00:00:00</td>\n",
       "      <td>{'mme': False}</td>\n",
       "      <td>offline</td>\n",
       "    </tr>\n",
       "    <tr>\n",
       "      <th>2</th>\n",
       "      <td>77af6d6d6db530c389ec1014d557a01e</td>\n",
       "      <td>{u'mme': False}</td>\n",
       "      <td>decline_request</td>\n",
       "      <td>2017-09-01 00:00:05</td>\n",
       "      <td>{'mme': False}</td>\n",
       "      <td>offline</td>\n",
       "    </tr>\n",
       "    <tr>\n",
       "      <th>3</th>\n",
       "      <td>7ea218c2b9a6dada27e0d5bdf5f896de</td>\n",
       "      <td>{u'mme': False}</td>\n",
       "      <td>decline_request</td>\n",
       "      <td>2017-09-01 00:00:12</td>\n",
       "      <td>{'mme': False}</td>\n",
       "      <td>offline</td>\n",
       "    </tr>\n",
       "    <tr>\n",
       "      <th>7</th>\n",
       "      <td>f1be9a4ebf57391f046464144a20fd36</td>\n",
       "      <td>{u'mme': False}</td>\n",
       "      <td>job_responded</td>\n",
       "      <td>2017-09-01 00:00:27</td>\n",
       "      <td>{'mme': False}</td>\n",
       "      <td>offline</td>\n",
       "    </tr>\n",
       "    <tr>\n",
       "      <th>10</th>\n",
       "      <td>44f11b351f554bb6f564c9cd7c861645</td>\n",
       "      <td>{u'mme': False}</td>\n",
       "      <td>job_responded</td>\n",
       "      <td>2017-09-01 00:00:48</td>\n",
       "      <td>{'mme': False}</td>\n",
       "      <td>offline</td>\n",
       "    </tr>\n",
       "    <tr>\n",
       "      <th>11</th>\n",
       "      <td>18718c56ffd665f10a41336e71c94ff7</td>\n",
       "      <td>{u'mme': False, u'requestID': u'59a82b992db8d2...</td>\n",
       "      <td>other-provider-accepted-wave-zero</td>\n",
       "      <td>2017-09-01 00:00:48</td>\n",
       "      <td>{'mme': False, 'requestID': '59a82b992db8d25d0...</td>\n",
       "      <td>offline</td>\n",
       "    </tr>\n",
       "    <tr>\n",
       "      <th>12</th>\n",
       "      <td>d43fbfbb539c2998bc2229ae35ae6375</td>\n",
       "      <td>{u'mme': False, u'requestID': u'59a82b992db8d2...</td>\n",
       "      <td>other-provider-accepted-wave-zero</td>\n",
       "      <td>2017-09-01 00:00:48</td>\n",
       "      <td>{'mme': False, 'requestID': '59a82b992db8d25d0...</td>\n",
       "      <td>offline</td>\n",
       "    </tr>\n",
       "    <tr>\n",
       "      <th>13</th>\n",
       "      <td>4da38b70324ea165ea75ee33ac204211</td>\n",
       "      <td>{u'mme': False, u'requestID': u'59a82b992db8d2...</td>\n",
       "      <td>other-provider-accepted-wave-zero</td>\n",
       "      <td>2017-09-01 00:00:48</td>\n",
       "      <td>{'mme': False, 'requestID': '59a82b992db8d25d0...</td>\n",
       "      <td>offline</td>\n",
       "    </tr>\n",
       "  </tbody>\n",
       "</table>\n",
       "</div>"
      ],
      "text/plain": [
       "                         provider_id  \\\n",
       "0   6873f0af240706d65514ec247c64f330   \n",
       "2   77af6d6d6db530c389ec1014d557a01e   \n",
       "3   7ea218c2b9a6dada27e0d5bdf5f896de   \n",
       "7   f1be9a4ebf57391f046464144a20fd36   \n",
       "10  44f11b351f554bb6f564c9cd7c861645   \n",
       "11  18718c56ffd665f10a41336e71c94ff7   \n",
       "12  d43fbfbb539c2998bc2229ae35ae6375   \n",
       "13  4da38b70324ea165ea75ee33ac204211   \n",
       "\n",
       "                                               detail  \\\n",
       "0                                     {u'mme': False}   \n",
       "2                                     {u'mme': False}   \n",
       "3                                     {u'mme': False}   \n",
       "7                                     {u'mme': False}   \n",
       "10                                    {u'mme': False}   \n",
       "11  {u'mme': False, u'requestID': u'59a82b992db8d2...   \n",
       "12  {u'mme': False, u'requestID': u'59a82b992db8d2...   \n",
       "13  {u'mme': False, u'requestID': u'59a82b992db8d2...   \n",
       "\n",
       "                               source          event_time  \\\n",
       "0                       job_responded 2017-09-01 00:00:00   \n",
       "2                     decline_request 2017-09-01 00:00:05   \n",
       "3                     decline_request 2017-09-01 00:00:12   \n",
       "7                       job_responded 2017-09-01 00:00:27   \n",
       "10                      job_responded 2017-09-01 00:00:48   \n",
       "11  other-provider-accepted-wave-zero 2017-09-01 00:00:48   \n",
       "12  other-provider-accepted-wave-zero 2017-09-01 00:00:48   \n",
       "13  other-provider-accepted-wave-zero 2017-09-01 00:00:48   \n",
       "\n",
       "                                        detail_parsed   status  \n",
       "0                                      {'mme': False}  offline  \n",
       "2                                      {'mme': False}  offline  \n",
       "3                                      {'mme': False}  offline  \n",
       "7                                      {'mme': False}  offline  \n",
       "10                                     {'mme': False}  offline  \n",
       "11  {'mme': False, 'requestID': '59a82b992db8d25d0...  offline  \n",
       "12  {'mme': False, 'requestID': '59a82b992db8d25d0...  offline  \n",
       "13  {'mme': False, 'requestID': '59a82b992db8d25d0...  offline  "
      ]
     },
     "execution_count": 18,
     "metadata": {},
     "output_type": "execute_result"
    }
   ],
   "source": [
    "xls.head(8)"
   ]
  },
  {
   "cell_type": "code",
   "execution_count": 19,
   "id": "a3cdd0b5",
   "metadata": {},
   "outputs": [
    {
     "data": {
      "text/plain": [
       "status\n",
       "offline    518831\n",
       "online     176836\n",
       "Name: count, dtype: int64"
      ]
     },
     "execution_count": 19,
     "metadata": {},
     "output_type": "execute_result"
    }
   ],
   "source": [
    "xls['status'].value_counts()"
   ]
  },
  {
   "cell_type": "code",
   "execution_count": 20,
   "id": "66bd8cd9",
   "metadata": {},
   "outputs": [],
   "source": [
    "# Sorting for time difference calculation\n",
    "xls = xls.sort_values(by=['provider_id', 'event_time'])"
   ]
  },
  {
   "cell_type": "code",
   "execution_count": 21,
   "id": "e51b22d1",
   "metadata": {},
   "outputs": [],
   "source": [
    "\n",
    "# Creating shifted columns\n",
    "xls['next_event_time'] = xls.groupby('provider_id')['event_time'].shift(-1)\n",
    "xls['next_status'] = xls.groupby('provider_id')['status'].shift(-1)"
   ]
  },
  {
   "cell_type": "markdown",
   "id": "4ef1aef5",
   "metadata": {},
   "source": [
    "## Calculating duration only for 'online' rows"
   ]
  },
  {
   "cell_type": "code",
   "execution_count": 22,
   "id": "3ec7ad62",
   "metadata": {},
   "outputs": [],
   "source": [
    "\n",
    "xls['seconds_online'] = np.where(\n",
    "    (xls['status'] == 'online') & (xls['next_status'].notna()),\n",
    "    (xls['next_event_time'] - xls['event_time']).dt.total_seconds(),\n",
    "    0\n",
    ")"
   ]
  },
  {
   "cell_type": "markdown",
   "id": "734f4e19",
   "metadata": {},
   "source": [
    "## Floor to hour to create hour slots"
   ]
  },
  {
   "cell_type": "code",
   "execution_count": 23,
   "id": "d87da2a1",
   "metadata": {},
   "outputs": [
    {
     "name": "stderr",
     "output_type": "stream",
     "text": [
      "C:\\Users\\Gaurav\\AppData\\Local\\Temp\\ipykernel_23224\\4217088613.py:1: FutureWarning: 'H' is deprecated and will be removed in a future version, please use 'h' instead.\n",
      "  xls['hour_slot'] = xls['event_time'].dt.floor('H')\n"
     ]
    }
   ],
   "source": [
    "\n",
    "xls['hour_slot'] = xls['event_time'].dt.floor('H')"
   ]
  },
  {
   "cell_type": "code",
   "execution_count": 24,
   "id": "4788d4a6",
   "metadata": {},
   "outputs": [],
   "source": [
    "\n",
    "final_xls = xls.groupby(['provider_id', 'hour_slot'], as_index=False)['seconds_online'].sum()"
   ]
  },
  {
   "cell_type": "markdown",
   "id": "7c8d3274",
   "metadata": {},
   "source": [
    "## Clipping at 3600 max seconds per hour"
   ]
  },
  {
   "cell_type": "code",
   "execution_count": 25,
   "id": "85360aa3",
   "metadata": {},
   "outputs": [],
   "source": [
    "\n",
    "\n",
    "final_xls['seconds_online'] = final_xls['seconds_online'].clip(upper=3600)"
   ]
  },
  {
   "cell_type": "code",
   "execution_count": 26,
   "id": "28dd9db5",
   "metadata": {},
   "outputs": [],
   "source": [
    "# Extracting date, hour, and end_hour from hour_slot\n",
    "final_xls['date'] = final_xls['hour_slot'].dt.strftime('%d-%b') \n",
    "final_xls['Hour startime'] = final_xls['hour_slot'].dt.hour\n",
    "final_xls['Hour end time'] = final_xls['Hour startime'] + 1"
   ]
  },
  {
   "cell_type": "code",
   "execution_count": 27,
   "id": "bad150db",
   "metadata": {},
   "outputs": [],
   "source": [
    "\n",
    "# Reordering and renaming columns\n",
    "final_xls = final_xls[['provider_id', 'date', 'Hour startime', 'Hour end time', 'seconds_online']].copy()\n",
    "final_xls.rename(columns={'seconds_online': 'Seconds online'}, inplace=True)\n",
    "\n",
    "\n",
    "final_xls = final_xls.sort_values(by=['provider_id', 'date', 'Hour startime'])"
   ]
  },
  {
   "cell_type": "markdown",
   "id": "8c302456",
   "metadata": {},
   "source": [
    "# Final Output preview"
   ]
  },
  {
   "cell_type": "code",
   "execution_count": 28,
   "id": "92918b0c",
   "metadata": {},
   "outputs": [
    {
     "data": {
      "text/html": [
       "<div>\n",
       "<style scoped>\n",
       "    .dataframe tbody tr th:only-of-type {\n",
       "        vertical-align: middle;\n",
       "    }\n",
       "\n",
       "    .dataframe tbody tr th {\n",
       "        vertical-align: top;\n",
       "    }\n",
       "\n",
       "    .dataframe thead th {\n",
       "        text-align: right;\n",
       "    }\n",
       "</style>\n",
       "<table border=\"1\" class=\"dataframe\">\n",
       "  <thead>\n",
       "    <tr style=\"text-align: right;\">\n",
       "      <th></th>\n",
       "      <th>provider_id</th>\n",
       "      <th>date</th>\n",
       "      <th>Hour startime</th>\n",
       "      <th>Hour end time</th>\n",
       "      <th>Seconds online</th>\n",
       "    </tr>\n",
       "  </thead>\n",
       "  <tbody>\n",
       "    <tr>\n",
       "      <th>0</th>\n",
       "      <td>00020da44b0a44e867de5f26c69886ac</td>\n",
       "      <td>07-Sep</td>\n",
       "      <td>0</td>\n",
       "      <td>1</td>\n",
       "      <td>0.0</td>\n",
       "    </tr>\n",
       "    <tr>\n",
       "      <th>1</th>\n",
       "      <td>0002beae790876e71dfb99a904563c30</td>\n",
       "      <td>01-Sep</td>\n",
       "      <td>17</td>\n",
       "      <td>18</td>\n",
       "      <td>0.0</td>\n",
       "    </tr>\n",
       "    <tr>\n",
       "      <th>2</th>\n",
       "      <td>0002beae790876e71dfb99a904563c30</td>\n",
       "      <td>02-Sep</td>\n",
       "      <td>16</td>\n",
       "      <td>17</td>\n",
       "      <td>0.0</td>\n",
       "    </tr>\n",
       "    <tr>\n",
       "      <th>3</th>\n",
       "      <td>0002beae790876e71dfb99a904563c30</td>\n",
       "      <td>03-Sep</td>\n",
       "      <td>11</td>\n",
       "      <td>12</td>\n",
       "      <td>0.0</td>\n",
       "    </tr>\n",
       "    <tr>\n",
       "      <th>4</th>\n",
       "      <td>0002beae790876e71dfb99a904563c30</td>\n",
       "      <td>03-Sep</td>\n",
       "      <td>14</td>\n",
       "      <td>15</td>\n",
       "      <td>0.0</td>\n",
       "    </tr>\n",
       "    <tr>\n",
       "      <th>...</th>\n",
       "      <td>...</td>\n",
       "      <td>...</td>\n",
       "      <td>...</td>\n",
       "      <td>...</td>\n",
       "      <td>...</td>\n",
       "    </tr>\n",
       "    <tr>\n",
       "      <th>316218</th>\n",
       "      <td>fff7363be392a544d1cc3d15165a7865</td>\n",
       "      <td>23-Sep</td>\n",
       "      <td>12</td>\n",
       "      <td>13</td>\n",
       "      <td>0.0</td>\n",
       "    </tr>\n",
       "    <tr>\n",
       "      <th>316219</th>\n",
       "      <td>fff7363be392a544d1cc3d15165a7865</td>\n",
       "      <td>28-Sep</td>\n",
       "      <td>9</td>\n",
       "      <td>10</td>\n",
       "      <td>0.0</td>\n",
       "    </tr>\n",
       "    <tr>\n",
       "      <th>316220</th>\n",
       "      <td>fff7363be392a544d1cc3d15165a7865</td>\n",
       "      <td>28-Sep</td>\n",
       "      <td>11</td>\n",
       "      <td>12</td>\n",
       "      <td>0.0</td>\n",
       "    </tr>\n",
       "    <tr>\n",
       "      <th>316221</th>\n",
       "      <td>fff7363be392a544d1cc3d15165a7865</td>\n",
       "      <td>29-Sep</td>\n",
       "      <td>9</td>\n",
       "      <td>10</td>\n",
       "      <td>0.0</td>\n",
       "    </tr>\n",
       "    <tr>\n",
       "      <th>316222</th>\n",
       "      <td>fff9471545b60a8880887db19fd4af26</td>\n",
       "      <td>23-Sep</td>\n",
       "      <td>9</td>\n",
       "      <td>10</td>\n",
       "      <td>0.0</td>\n",
       "    </tr>\n",
       "  </tbody>\n",
       "</table>\n",
       "<p>316223 rows × 5 columns</p>\n",
       "</div>"
      ],
      "text/plain": [
       "                             provider_id    date  Hour startime  \\\n",
       "0       00020da44b0a44e867de5f26c69886ac  07-Sep              0   \n",
       "1       0002beae790876e71dfb99a904563c30  01-Sep             17   \n",
       "2       0002beae790876e71dfb99a904563c30  02-Sep             16   \n",
       "3       0002beae790876e71dfb99a904563c30  03-Sep             11   \n",
       "4       0002beae790876e71dfb99a904563c30  03-Sep             14   \n",
       "...                                  ...     ...            ...   \n",
       "316218  fff7363be392a544d1cc3d15165a7865  23-Sep             12   \n",
       "316219  fff7363be392a544d1cc3d15165a7865  28-Sep              9   \n",
       "316220  fff7363be392a544d1cc3d15165a7865  28-Sep             11   \n",
       "316221  fff7363be392a544d1cc3d15165a7865  29-Sep              9   \n",
       "316222  fff9471545b60a8880887db19fd4af26  23-Sep              9   \n",
       "\n",
       "        Hour end time  Seconds online  \n",
       "0                   1             0.0  \n",
       "1                  18             0.0  \n",
       "2                  17             0.0  \n",
       "3                  12             0.0  \n",
       "4                  15             0.0  \n",
       "...               ...             ...  \n",
       "316218             13             0.0  \n",
       "316219             10             0.0  \n",
       "316220             12             0.0  \n",
       "316221             10             0.0  \n",
       "316222             10             0.0  \n",
       "\n",
       "[316223 rows x 5 columns]"
      ]
     },
     "execution_count": 28,
     "metadata": {},
     "output_type": "execute_result"
    }
   ],
   "source": [
    "\n",
    "final_xls"
   ]
  },
  {
   "cell_type": "code",
   "execution_count": 29,
   "id": "59366dde",
   "metadata": {},
   "outputs": [],
   "source": [
    "# Converting to Excel File\n",
    "final_xls.to_excel(\"final_output.xlsx\", index=False)"
   ]
  },
  {
   "cell_type": "markdown",
   "id": "386358c9",
   "metadata": {},
   "source": [
    "# No of Online Events"
   ]
  },
  {
   "cell_type": "code",
   "execution_count": 30,
   "id": "708a9300",
   "metadata": {},
   "outputs": [
    {
     "name": "stdout",
     "output_type": "stream",
     "text": [
      " No of Online Events: 176836\n"
     ]
    }
   ],
   "source": [
    "online_events = xls[xls['status'] == 'online']\n",
    "online_count = len(online_events)\n",
    "print(\" No of Online Events:\", online_count)"
   ]
  },
  {
   "cell_type": "markdown",
   "id": "ad6d130f",
   "metadata": {},
   "source": [
    "# No of Offline Events"
   ]
  },
  {
   "cell_type": "code",
   "execution_count": 31,
   "id": "b5bc1906",
   "metadata": {},
   "outputs": [
    {
     "name": "stdout",
     "output_type": "stream",
     "text": [
      "No of Offline Events: 518831\n"
     ]
    }
   ],
   "source": [
    "offline_events = xls[xls['status'] == 'offline']\n",
    "offline_count = len(offline_events)\n",
    "print(\"No of Offline Events:\", offline_count)"
   ]
  },
  {
   "cell_type": "code",
   "execution_count": 33,
   "id": "22ec400b",
   "metadata": {},
   "outputs": [],
   "source": [
    "valid_rows = xls[\n",
    "    xls['detail'].str.contains('True|False', na=False) |\n",
    "    xls['source'].str.contains('Action on Job', na=False)\n",
    "]\n",
    "\n"
   ]
  },
  {
   "cell_type": "markdown",
   "id": "c5a7b50e",
   "metadata": {},
   "source": [
    "# Count unique providers after removing error rows"
   ]
  },
  {
   "cell_type": "code",
   "execution_count": null,
   "id": "7e1ee796",
   "metadata": {},
   "outputs": [
    {
     "name": "stdout",
     "output_type": "stream",
     "text": [
      "Providers after removing error rows: 14914\n"
     ]
    }
   ],
   "source": [
    "\n",
    "providers_after_error_filter = valid_rows['provider_id'].nunique()\n",
    "print(\"Providers after removing error rows:\", providers_after_error_filter)"
   ]
  },
  {
   "cell_type": "markdown",
   "id": "1723b904",
   "metadata": {},
   "source": [
    "# Filter the Rows for event time before 7 PM"
   ]
  },
  {
   "cell_type": "code",
   "execution_count": 35,
   "id": "13fbb93f",
   "metadata": {},
   "outputs": [
    {
     "name": "stdout",
     "output_type": "stream",
     "text": [
      "Providers after removing events on/after 7 PM: 14914\n"
     ]
    }
   ],
   "source": [
    "\n",
    "valid_rows_time_filtered = valid_rows[valid_rows['event_time'].dt.hour < 19]\n",
    "\n",
    "\n",
    "providers_after_time_filter = valid_rows_time_filtered['provider_id'].nunique()\n",
    "print(\"Providers after removing events on/after 7 PM:\", providers_after_time_filter)"
   ]
  },
  {
   "cell_type": "markdown",
   "id": "6235359c",
   "metadata": {},
   "source": [
    "# No of Rows in final output data frame (No of Providers * 30 * 11)"
   ]
  },
  {
   "cell_type": "code",
   "execution_count": 38,
   "id": "ad0eb428",
   "metadata": {},
   "outputs": [
    {
     "name": "stdout",
     "output_type": "stream",
     "text": [
      " Expected Rows in Final Output (Providers × 30 × 11): 4921620\n"
     ]
    }
   ],
   "source": [
    "valid_providers = valid_rows_time_filtered['provider_id'].nunique()\n",
    "\n",
    "\n",
    "final_expected_rows = valid_providers * 30 * 11\n",
    "print(\" Expected Rows in Final Output (Providers × 30 × 11):\", final_expected_rows)"
   ]
  },
  {
   "cell_type": "markdown",
   "id": "c1339102",
   "metadata": {},
   "source": [
    "# Rows in Final Output with Seconds_online > 0"
   ]
  },
  {
   "cell_type": "code",
   "execution_count": 39,
   "id": "582446cc",
   "metadata": {},
   "outputs": [
    {
     "name": "stdout",
     "output_type": "stream",
     "text": [
      " Rows in Final Output with Seconds_online > 0: 73531\n"
     ]
    }
   ],
   "source": [
    "non_zero_seconds = final_xls[final_xls['Seconds online'] > 0]\n",
    "non_zero_count = len(non_zero_seconds)\n",
    "print(\" Rows in Final Output with Seconds_online > 0:\", non_zero_count)"
   ]
  },
  {
   "cell_type": "code",
   "execution_count": null,
   "id": "5b342bea",
   "metadata": {},
   "outputs": [],
   "source": []
  },
  {
   "cell_type": "code",
   "execution_count": null,
   "id": "485cc6e9",
   "metadata": {},
   "outputs": [],
   "source": []
  },
  {
   "cell_type": "code",
   "execution_count": null,
   "id": "23e30e03",
   "metadata": {},
   "outputs": [],
   "source": []
  },
  {
   "cell_type": "code",
   "execution_count": null,
   "id": "25107e74",
   "metadata": {},
   "outputs": [],
   "source": []
  },
  {
   "cell_type": "code",
   "execution_count": null,
   "id": "7e88d649",
   "metadata": {},
   "outputs": [],
   "source": []
  },
  {
   "cell_type": "code",
   "execution_count": null,
   "id": "19b2ef8b",
   "metadata": {},
   "outputs": [],
   "source": []
  },
  {
   "cell_type": "code",
   "execution_count": null,
   "id": "844e83eb",
   "metadata": {},
   "outputs": [],
   "source": []
  },
  {
   "cell_type": "code",
   "execution_count": null,
   "id": "082efd04",
   "metadata": {},
   "outputs": [],
   "source": []
  },
  {
   "cell_type": "code",
   "execution_count": null,
   "id": "c3d21eab",
   "metadata": {},
   "outputs": [],
   "source": []
  },
  {
   "cell_type": "code",
   "execution_count": null,
   "id": "b480f353",
   "metadata": {},
   "outputs": [],
   "source": []
  },
  {
   "cell_type": "code",
   "execution_count": null,
   "id": "965d6609",
   "metadata": {},
   "outputs": [],
   "source": []
  }
 ],
 "metadata": {
  "kernelspec": {
   "display_name": "Python 3",
   "language": "python",
   "name": "python3"
  },
  "language_info": {
   "codemirror_mode": {
    "name": "ipython",
    "version": 3
   },
   "file_extension": ".py",
   "mimetype": "text/x-python",
   "name": "python",
   "nbconvert_exporter": "python",
   "pygments_lexer": "ipython3",
   "version": "3.10.0"
  }
 },
 "nbformat": 4,
 "nbformat_minor": 5
}
